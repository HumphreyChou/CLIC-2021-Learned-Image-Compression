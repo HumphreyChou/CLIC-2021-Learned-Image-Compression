{
  "nbformat": 4,
  "nbformat_minor": 0,
  "metadata": {
    "accelerator": "GPU",
    "colab": {
      "name": "CLIC2021.ipynb",
      "provenance": [],
      "collapsed_sections": [],
      "toc_visible": true,
      "authorship_tag": "ABX9TyN62iPMXnUNuKlePugP8ilO",
      "include_colab_link": true
    },
    "kernelspec": {
      "display_name": "Python 3",
      "name": "python3"
    },
    "language_info": {
      "name": "python"
    }
  },
  "cells": [
    {
      "cell_type": "markdown",
      "metadata": {
        "id": "view-in-github",
        "colab_type": "text"
      },
      "source": [
        "<a href=\"https://colab.research.google.com/github/HumphreyChou/CLIC-2021-Learned-Image-Compression/blob/main/CLIC2021.ipynb\" target=\"_parent\"><img src=\"https://colab.research.google.com/assets/colab-badge.svg\" alt=\"Open In Colab\"/></a>"
      ]
    },
    {
      "cell_type": "markdown",
      "metadata": {
        "id": "i3C4JTGGFYmx"
      },
      "source": [
        "# CLIC2021\n",
        "\n",
        "此笔记本是私人的，你可以在此处运行代码，但是所有结果不会被保存，\n",
        "选择：文件 > 在云端硬盘中保存一份副本 可以创建你自己的笔记本\n",
        "\n",
        "使用时一定选择 修改 > 笔记本设置 > 硬件加速器 GPU"
      ]
    },
    {
      "cell_type": "markdown",
      "metadata": {
        "id": "dQUuEaFoFf0A"
      },
      "source": [
        "## 环境配置\n",
        "挂载云端硬盘\n",
        "将自己的云端硬盘挂载在 colab 虚拟机文件系统下，可以使用自己上传的代码并保存训练数据"
      ]
    },
    {
      "cell_type": "code",
      "metadata": {
        "id": "J_g3XJ9V0C7V"
      },
      "source": [
        "from google.colab import drive\n",
        "drive.mount('/content/drive', force_remount=True)"
      ],
      "execution_count": null,
      "outputs": []
    },
    {
      "cell_type": "markdown",
      "metadata": {
        "id": "1T3wIWwoFyQm"
      },
      "source": [
        "切换到当前工作路径"
      ]
    },
    {
      "cell_type": "code",
      "metadata": {
        "id": "rq5kHbS8FtXI"
      },
      "source": [
        "import os\n",
        "os.chdir(\"/content/drive/My Drive/Colab Notebooks/CLIC2021\")"
      ],
      "execution_count": null,
      "outputs": []
    },
    {
      "cell_type": "markdown",
      "metadata": {
        "id": "mx_PVLw5F3pd"
      },
      "source": [
        "### 安装配置 Anaconda"
      ]
    },
    {
      "cell_type": "code",
      "metadata": {
        "id": "0h2hamUVSjGu"
      },
      "source": [
        "# !wget https://repo.anaconda.com/archive/Anaconda3-5.2.0-Linux-x86_64.sh\n",
        "!bash Anaconda3-5.2.0-Linux-x86_64.sh -bfp /usr/local\n",
        "!conda update -y -q\n",
        "!conda env list"
      ],
      "execution_count": null,
      "outputs": []
    },
    {
      "cell_type": "code",
      "metadata": {
        "id": "C22ubm3HSsyt"
      },
      "source": [
        "!conda install -y -q python=3.7 cudatoolkit=10.0 cudnn"
      ],
      "execution_count": null,
      "outputs": []
    },
    {
      "cell_type": "code",
      "metadata": {
        "id": "CHfBG20BZ20p"
      },
      "source": [
        "import sys\n",
        "sys.path.insert(0, \"/usr/local/lib/python3.7/site-packages/\")\n",
        "!source /usr/local/etc/profile.d/conda.sh\n",
        "!source ~/.bashrc"
      ],
      "execution_count": null,
      "outputs": []
    },
    {
      "cell_type": "markdown",
      "metadata": {
        "id": "hSvAou65GCsQ"
      },
      "source": [
        "检查 python 版本，运行结果应该为 `Python 3.7.*`"
      ]
    },
    {
      "cell_type": "code",
      "metadata": {
        "colab": {
          "base_uri": "https://localhost:8080/"
        },
        "id": "ut74o5LOWXTr",
        "outputId": "6fffc0aa-5bc2-483d-b022-bb1784dcc2da"
      },
      "source": [
        "!python --version"
      ],
      "execution_count": null,
      "outputs": [
        {
          "output_type": "stream",
          "text": [
            "Python 3.7.10\n"
          ],
          "name": "stdout"
        }
      ]
    },
    {
      "cell_type": "markdown",
      "metadata": {
        "id": "scqA6FGkGSr7"
      },
      "source": [
        "### 上传代码\n",
        "此处使用修改后的 Google HiFiC 代码\n",
        "\n"
      ]
    },
    {
      "cell_type": "code",
      "metadata": {
        "id": "rTNz2CtZS1zk"
      },
      "source": [
        "!git clone https://github.com/HumphreyChou/compression.git"
      ],
      "execution_count": null,
      "outputs": []
    },
    {
      "cell_type": "markdown",
      "metadata": {
        "id": "nd1z_DxRGqqy"
      },
      "source": [
        "### 安装第三方包"
      ]
    },
    {
      "cell_type": "code",
      "metadata": {
        "id": "1M5SuQ1tS52a"
      },
      "source": [
        "%%shell\n",
        "cd compression/models/\n",
        "\n",
        "pip install -r hific/requirements.txt\n",
        "pip install scipy"
      ],
      "execution_count": null,
      "outputs": []
    },
    {
      "cell_type": "markdown",
      "metadata": {
        "id": "4Y1hgbyBGwNa"
      },
      "source": [
        "## 训练"
      ]
    },
    {
      "cell_type": "code",
      "metadata": {
        "id": "RsaAaDFObC4J"
      },
      "source": [
        "import os\n",
        "os.chdir(\"/content/drive/My Drive/Colab Notebooks/CLIC2021/compression/models\")"
      ],
      "execution_count": null,
      "outputs": []
    },
    {
      "cell_type": "markdown",
      "metadata": {
        "id": "pBFU4MAkIKiE"
      },
      "source": [
        "先训练 MSE + LPIPS 模型"
      ]
    },
    {
      "cell_type": "code",
      "metadata": {
        "id": "gElbrCyhW-di"
      },
      "source": [
        "%%shell\n",
        "python -m hific.train --config mselpips --ckpt_dir ../../ckpts/mse_lpips \\\n",
        "    --num_steps 1k --tfds_dataset_name cifar10 --no-image-summaries\n"
      ],
      "execution_count": null,
      "outputs": []
    },
    {
      "cell_type": "markdown",
      "metadata": {
        "id": "-SYE_YAYIRI7"
      },
      "source": [
        "再训练 GAN 模型"
      ]
    },
    {
      "cell_type": "code",
      "metadata": {
        "id": "LeQYGih5YFSJ"
      },
      "source": [
        "%%shell\n",
        "python -m hific.train --config hific --ckpt_dir ../../ckpts/hific \\\n",
        "                --init_autoencoder_from_ckpt_dir ../../ckpts/mse_lpips \\\n",
        "                --num_steps 10k \\\n",
        "                --tfds_dataset_name cifar10 \\\n",
        "                --no-image-summaries"
      ],
      "execution_count": null,
      "outputs": []
    },
    {
      "cell_type": "markdown",
      "metadata": {
        "id": "re116M6jH-1C"
      },
      "source": [
        "## 评估"
      ]
    },
    {
      "cell_type": "markdown",
      "metadata": {
        "id": "afZWexmjOsed"
      },
      "source": [
        "生成压缩图像，计算 PSNR 与 bpp"
      ]
    },
    {
      "cell_type": "code",
      "metadata": {
        "id": "AGox91YBYLoo"
      },
      "source": [
        "%%shell\n",
        "python -m hific.evaluate --config hific \\\n",
        "                   --ckpt_dir ../../ckpts/hific \\\n",
        "                   --out_dir ../../out \\\n",
        "                   --tfds_dataset_name cifar10 \\\n",
        "                   --max_image 100"
      ],
      "execution_count": null,
      "outputs": []
    },
    {
      "cell_type": "markdown",
      "metadata": {
        "id": "zn3UvTG9HvKl"
      },
      "source": [
        "## 打扫战场\n",
        "配置环境、训练过程中会占用硬盘空间，直到占满。colab运行在虚拟机上，且训练产生出的参数和 checkpoint 存储在 ckpt_dir（可以是你指定的云端磁盘位置），因此可以直接选择 代码执行程序 > 将该运行时恢复出厂设置，即可被分配新的虚拟机，和所有的烦恼说拜拜\n",
        "\n",
        "实际上，被分配的虚拟机存活时间最长12小时，即12小时后一切配置都会重置，这是谷歌的动态分配策略，以保证免费资源供应"
      ]
    }
  ]
}