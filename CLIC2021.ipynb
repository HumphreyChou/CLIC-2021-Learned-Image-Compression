{
  "nbformat": 4,
  "nbformat_minor": 0,
  "metadata": {
    "colab": {
      "name": "CLIC2021.ipynb",
      "provenance": [],
      "collapsed_sections": [],
      "authorship_tag": "ABX9TyMNjxB8NU0rwZurTiw4zxNU",
      "include_colab_link": true
    },
    "kernelspec": {
      "name": "python3",
      "display_name": "Python 3"
    },
    "language_info": {
      "name": "python"
    }
  },
  "cells": [
    {
      "cell_type": "markdown",
      "metadata": {
        "id": "view-in-github",
        "colab_type": "text"
      },
      "source": [
        "<a href=\"https://colab.research.google.com/github/HumphreyChou/CLIC-2021-Learned-Image-Compression/blob/main/CLIC2021.ipynb\" target=\"_parent\"><img src=\"https://colab.research.google.com/assets/colab-badge.svg\" alt=\"Open In Colab\"/></a>"
      ]
    },
    {
      "cell_type": "markdown",
      "metadata": {
        "id": "T-oJ91psbuCi"
      },
      "source": [
        "# CLIC2021\n",
        "\n",
        "此笔记本是私人的，你可以在此处运行代码，但是所有结果不会被保存，\n",
        "选择：文件 > 在云端硬盘中保存一份副本 可以创建你自己的笔记本\n",
        "\n",
        "使用时一定选择 修改 > 笔记本设置 > 硬件加速器 GPU\n"
      ]
    },
    {
      "cell_type": "markdown",
      "metadata": {
        "id": "Be0nYgC1cfsv"
      },
      "source": [
        "## 环境配置\n",
        "\n",
        "### 绑定云端硬盘\n",
        "绑定自己的云端硬盘，可以使用自己上传的代码\n"
      ]
    },
    {
      "cell_type": "code",
      "metadata": {
        "id": "maR0bn_Zxhey"
      },
      "source": [
        "from google.colab import drive\n",
        "drive.mount('/content/drive')"
      ],
      "execution_count": null,
      "outputs": []
    },
    {
      "cell_type": "markdown",
      "metadata": {
        "id": "ANdfruCLc_Ei"
      },
      "source": [
        "切换到当前工作路径"
      ]
    },
    {
      "cell_type": "code",
      "metadata": {
        "id": "pBOid5qAzzDI"
      },
      "source": [
        "import os\n",
        "os.chdir(\"/content/drive/My Drive/Colab Notebooks/CLIC2021\")"
      ],
      "execution_count": null,
      "outputs": []
    },
    {
      "cell_type": "markdown",
      "metadata": {
        "id": "7W7StRDCdLOL"
      },
      "source": [
        "### 配置Anaconda"
      ]
    },
    {
      "cell_type": "code",
      "metadata": {
        "id": "DgcQrJNB16qv"
      },
      "source": [
        "# !wget https://repo.anaconda.com/archive/Anaconda3-5.2.0-Linux-x86_64.sh\n",
        "!bash Anaconda3-5.2.0-Linux-x86_64.sh -bfp /usr/local\n",
        "!conda update conda -y -q"
      ],
      "execution_count": null,
      "outputs": []
    },
    {
      "cell_type": "code",
      "metadata": {
        "id": "bjA7YfN025OC"
      },
      "source": [
        "import sys\n",
        "sys.path.insert(0, \"/usr/local/lib/python3.6/site-packages/\")\n",
        "!source /usr/local/etc/profile.d/conda.sh\n",
        "!source ~/.bashrc\n",
        "!conda init bash"
      ],
      "execution_count": null,
      "outputs": []
    },
    {
      "cell_type": "code",
      "metadata": {
        "id": "zMj7yOdtDXMe"
      },
      "source": [
        "!conda create --name hific -y -q python=3.7 cudatoolkit=10.0 cudnn\n",
        "!conda env list\n",
        "!ls ~/tensorflow_datasets"
      ],
      "execution_count": null,
      "outputs": []
    },
    {
      "cell_type": "markdown",
      "metadata": {
        "id": "UmH5KAjodU16"
      },
      "source": [
        "### 上传代码\n",
        "此处使用未被修改的 Google HiFiC 代码，以后可以上传自己修改后的代码"
      ]
    },
    {
      "cell_type": "code",
      "metadata": {
        "id": "Rt1-GB1TFUoL"
      },
      "source": [
        "!git clone https://github.com/tensorflow/compression"
      ],
      "execution_count": null,
      "outputs": []
    },
    {
      "cell_type": "markdown",
      "metadata": {
        "id": "r2C6KVgxdl9E"
      },
      "source": [
        "## 训练评估\n",
        "遗憾的是，我并没有在 colab 中找到与 Linux shell 环境完全一致的使用\n",
        "Anaconda 的方法。换句话说，不能像在 shell 中那样使用 `conda activate` 便可以切换环境——colab中这样做只能切换当前单元格的环境，在其他单元格中会丢失一切第三方包。所以就先把训练和评估放一块吧凑活一下\n",
        "\n"
      ]
    },
    {
      "cell_type": "code",
      "metadata": {
        "id": "44oMWiNAIp_w"
      },
      "source": [
        "%%shell\n",
        "eval \"$(conda shell.bash hook)\" # copy conda command to shell\n",
        "conda activate hific\n",
        "python --version\n",
        "\n",
        "cd compression/models/\n",
        "\n",
        "pip install -r hific/requirements.txt\n",
        "\n",
        "# num_steps 1M过大会占满硬盘，1K过小欠拟合，可通过修改源码改一个合适的值\n",
        "python -m hific.train --config mselpips --ckpt_dir ckpts/mse_lpips \\\n",
        "    --num_steps 1M --tfds_dataset_name cifar10\n",
        "\n",
        "python -m hific.train --config hific --ckpt_dir ckpts/hific \\\n",
        "                --init_autoencoder_from_ckpt_dir ckpts/mse_lpips \\\n",
        "                --num_steps 1M \\\n",
        "                --tfds_dataset_name cifar10\n",
        "python -m hific.evaluate --config hific --ckpt_dir ckpts/hific --out_dir out/ \\\n",
        "                   --tfds_dataset_name cifar10"
      ],
      "execution_count": null,
      "outputs": []
    },
    {
      "cell_type": "markdown",
      "metadata": {
        "id": "cE7Hsa4Ythkx"
      },
      "source": [
        "## 打扫战场\n",
        "配置环境、训练过程中会占用硬盘空间，直到占满。colab运行在虚拟机上，且训练产生出的参数和 checkpoint 存储在 `ckpt_dir`，因此可以直接选择\n",
        "代码执行程序 > 将该运行时恢复出厂设置，即可被分配新的虚拟机，和所有的烦恼说拜拜\n",
        "\n",
        "实际上，被分配的虚拟机存活时间最长12小时，即12小时后一切配置都会重置，这是谷歌的动态分配策略，以保证免费资源供应"
      ]
    }
  ]
}